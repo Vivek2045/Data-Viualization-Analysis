{
 "cells": [
  {
   "cell_type": "code",
   "execution_count": 1,
   "id": "df0290f6-a0f0-4894-bd36-06ee2f933c0e",
   "metadata": {},
   "outputs": [],
   "source": [
    "# Libraries for data manipulation and visualization\n",
    "import numpy as np\n",
    "import pandas as pd\n",
    "import seaborn as sns\n",
    "import matplotlib.pyplot as plt\n",
    "import plotly.express as px\n",
    "import scipy.stats as stats"
   ]
  },
  {
   "cell_type": "code",
   "execution_count": 2,
   "id": "d90485fa-b49b-4b3a-b3c6-239dd06e5c83",
   "metadata": {},
   "outputs": [],
   "source": [
    "# Load the dataset\n",
    "data = pd.read_csv(\"C:\\\\Users\\\\Vivek\\\\OneDrive\\\\Desktop\\\\archive (3)\\\\MBA.csv\")\n"
   ]
  },
  {
   "cell_type": "code",
   "execution_count": null,
   "id": "671d9e36-eda4-473b-a6d8-6a5210278a44",
   "metadata": {},
   "outputs": [],
   "source": [
    "# Display basic data information\n",
    "# View the first few rows of the dataset\n",
    "data.head()  "
   ]
  },
  {
   "cell_type": "code",
   "execution_count": null,
   "id": "2c2dba83-4adc-417b-91b1-eb2782b3ee1d",
   "metadata": {},
   "outputs": [],
   "source": [
    " # Check the dimensions of the dataset\n",
    "data.shape  "
   ]
  },
  {
   "cell_type": "code",
   "execution_count": null,
   "id": "a1f7f33f-2091-4bc4-98ad-d04b4324f25a",
   "metadata": {},
   "outputs": [],
   "source": [
    " # Check data types of all columns\n",
    "data.dtypes  "
   ]
  },
  {
   "cell_type": "code",
   "execution_count": null,
   "id": "bb14f797-9588-4596-bff2-ae6746be6262",
   "metadata": {},
   "outputs": [],
   "source": [
    "# Get summary statistics for numerical columns\n",
    "data.describe()  "
   ]
  },
  {
   "cell_type": "code",
   "execution_count": null,
   "id": "34fdaf9a-9168-4358-a137-a5104220e53c",
   "metadata": {},
   "outputs": [],
   "source": [
    "# View the last few rows of the dataset\n",
    "data.tail() "
   ]
  },
  {
   "cell_type": "code",
   "execution_count": null,
   "id": "75a94515-8ed8-465e-adbe-8b998deaee00",
   "metadata": {},
   "outputs": [],
   "source": [
    " # Get a concise summary of the dataset\n",
    "data.info()  "
   ]
  },
  {
   "cell_type": "code",
   "execution_count": null,
   "id": "57e13386-5587-4198-ac57-dbaaf88a9755",
   "metadata": {},
   "outputs": [],
   "source": [
    " # Count missing values in each column\n",
    "data.isnull().sum() "
   ]
  },
  {
   "cell_type": "code",
   "execution_count": null,
   "id": "ec1be5b3-cc4f-4954-be42-b78e09123997",
   "metadata": {},
   "outputs": [],
   "source": [
    "# Calculate percentage of missing values\n",
    "\n",
    "data.isnull().sum() * 100 / len(data)  \n"
   ]
  },
  {
   "cell_type": "code",
   "execution_count": null,
   "id": "9f9a5596-9591-4949-89b9-6476ceb3a4fa",
   "metadata": {},
   "outputs": [],
   "source": [
    "# Separate numerical and categorical columns\n",
    "numeric_cols = data.select_dtypes(include=['float64', 'int64']).columns\n",
    "cat_cols = data.select_dtypes(include=['object']).columns\n",
    "print(numeric_cols)\n",
    "print(cat_cols)"
   ]
  },
  {
   "cell_type": "code",
   "execution_count": null,
   "id": "5f3757e5-c8c1-449e-a932-d78aba2a7631",
   "metadata": {},
   "outputs": [],
   "source": [
    "# Fill missing values in categorical columns with the mode\n",
    "for col in cat_cols:\n",
    "    most_frequent = data[col].mode()[0]\n",
    "    data[col].fillna(most_frequent, inplace=True)"
   ]
  },
  {
   "cell_type": "code",
   "execution_count": null,
   "id": "40c6de59-b9ef-4991-8f07-fe912be852d3",
   "metadata": {},
   "outputs": [],
   "source": [
    "# Recheck for missing values\n",
    "data.isnull().sum()\n"
   ]
  },
  {
   "cell_type": "code",
   "execution_count": null,
   "id": "c1319c54-7a66-4191-b26c-958272fc860e",
   "metadata": {},
   "outputs": [],
   "source": [
    " #Visualization 1: Count plot for \"gender\"\n",
    "# Shows the distribution of gender in the dataset\n",
    "sns.countplot(data, x=\"gender\")\n",
    "plt.title(\"Gender Distribution\")\n",
    "plt.show()"
   ]
  },
  {
   "cell_type": "code",
   "execution_count": null,
   "id": "81b2bac3-22bb-4e08-9ef9-c5f5d83438ba",
   "metadata": {},
   "outputs": [],
   "source": [
    "# Visualization 2: Count plot for \"international\"\n",
    "# Displays the count of international vs. non-international students\n",
    "sns.countplot(data, x=\"international\")\n",
    "plt.title(\"International Students Distribution\")\n",
    "plt.show()"
   ]
  },
  {
   "cell_type": "code",
   "execution_count": null,
   "id": "73d38782-fd49-4051-b88f-943a39e6e29e",
   "metadata": {},
   "outputs": [],
   "source": [
    "# Visualization 3: Histogram for \"race\" (using Plotly)\n",
    "# Visualizes the frequency distribution of different races\n",
    "fig = px.histogram(data, x=\"race\", title=\"Race Distribution in Dataset\")\n",
    "fig.show()"
   ]
  },
  {
   "cell_type": "code",
   "execution_count": null,
   "id": "236802d8-bf06-4afb-93be-da001f9a66af",
   "metadata": {},
   "outputs": [],
   "source": [
    "# Visualization 4: Pie chart for \"major\" distribution\n",
    "# Displays the proportion of students in different majors\n",
    "fig = px.pie(data, names='major', title='Major Distribution in Dataset')\n",
    "fig.show()"
   ]
  },
  {
   "cell_type": "code",
   "execution_count": null,
   "id": "86a9303f-2b5a-4eb9-90a1-e8ab586bf9a7",
   "metadata": {},
   "outputs": [],
   "source": [
    "# Visualization 5: Pie chart for \"work_industry\" distribution\n",
    "# Shows the proportion of students from various work industries\n",
    "fig = px.pie(data, names=\"work_industry\", title=\"Work Industry Distribution in Dataset\")\n",
    "fig.show()"
   ]
  },
  {
   "cell_type": "code",
   "execution_count": null,
   "id": "5682e978-2d96-4427-b4b5-4308bacd58d1",
   "metadata": {},
   "outputs": [],
   "source": [
    "# Visualization 6: Histogram for \"gpa\"\n",
    "# Displays the distribution of GPA scores\n",
    "sns.histplot(data, x=\"gpa\")\n",
    "plt.title(\"GPA Distribution\")\n",
    "plt.show()"
   ]
  },
  {
   "cell_type": "code",
   "execution_count": null,
   "id": "b2b2e05b-d5f2-4f61-81c9-3ba7acaed556",
   "metadata": {},
   "outputs": [],
   "source": [
    "# Visualization 7: Histogram for \"work_exp\"\n",
    "# Displays the distribution of work experience\n",
    "sns.histplot(data, x=\"work_exp\")\n",
    "plt.title(\"Work Experience Distribution\")\n",
    "plt.show()"
   ]
  },
  {
   "cell_type": "code",
   "execution_count": null,
   "id": "61d3dac1-5aed-4458-ba9e-0d56a03b8a85",
   "metadata": {},
   "outputs": [],
   "source": [
    "# Visualization 8: Line plot for \"work_industry\" vs \"work_exp\"\n",
    "# Shows the trend of work experience across different industries\n",
    "sns.lineplot(data, x=\"work_industry\", y=\"work_exp\")\n",
    "plt.title(\"Work Experience vs Work Industry\")\n",
    "plt.xticks(rotation=45)\n",
    "plt.show()\n"
   ]
  },
  {
   "cell_type": "code",
   "execution_count": null,
   "id": "a5d6fa8b-88d2-4864-9119-a53ddf00f686",
   "metadata": {},
   "outputs": [],
   "source": [
    "# Visualization 9: Scatter plot for \"gpa\" vs \"admission\"\n",
    "# Visualizes the relationship between GPA and admission status\n",
    "fig = px.scatter(data, x=\"gpa\", y=\"admission\", title=\"GPA vs Admission\")\n",
    "fig.show()"
   ]
  },
  {
   "cell_type": "code",
   "execution_count": null,
   "id": "09ed4477-9df8-49e1-993a-e00b785eb5db",
   "metadata": {},
   "outputs": [],
   "source": [
    "# Visualization 10: Scatter plot for \"gpa\" vs \"gmat\"\n",
    "# Explores the relationship between GPA and GMAT scores\n",
    "fig = px.scatter(data, x=\"gpa\", y=\"gmat\", title=\"GPA vs GMAT Score\")\n",
    "fig.show()"
   ]
  },
  {
   "cell_type": "code",
   "execution_count": null,
   "id": "3f497f8f-e4c4-4453-85d4-3c25074bb7d1",
   "metadata": {},
   "outputs": [],
   "source": [
    "# Visualization 11: Bar plot for all categorical columns\n",
    "# Displays frequency distributions for all categorical features\n",
    "for col in cat_cols:\n",
    "    plt.figure(figsize=(10, 5))\n",
    "    sns.countplot(data, x=col)\n",
    "    plt.title(f'Bar Plot of {col}')\n",
    "    plt.xticks(rotation=90)\n",
    "    plt.show()"
   ]
  },
  {
   "cell_type": "code",
   "execution_count": null,
   "id": "01aee2c3-d723-4f55-8a77-90639fc9bcf3",
   "metadata": {},
   "outputs": [],
   "source": [
    "# Visualization 12: KDE plot for \"gpa\"\n",
    "# Shows the density estimation for GPA scores\n",
    "sns.kdeplot(data['gpa'], shade=True)\n",
    "plt.title('KDE Plot of GPA')\n",
    "plt.show()"
   ]
  },
  {
   "cell_type": "code",
   "execution_count": null,
   "id": "b724851f-aced-4978-9bc8-165be231d081",
   "metadata": {},
   "outputs": [],
   "source": [
    "# Visualization 13: QQ Plot for \"gpa\"\n",
    "# Assesses normality of GPA scores by comparing to a normal distribution\n",
    "stats.probplot(data['gpa'], dist=\"norm\", plot=plt)\n",
    "plt.title('QQ Plot for GPA')\n",
    "plt.show()"
   ]
  },
  {
   "cell_type": "code",
   "execution_count": null,
   "id": "148e5b3f-3c7e-4bbf-b5c3-b52d65fd2932",
   "metadata": {},
   "outputs": [],
   "source": []
  }
 ],
 "metadata": {
  "kernelspec": {
   "display_name": "Python 3 (ipykernel)",
   "language": "python",
   "name": "python3"
  },
  "language_info": {
   "codemirror_mode": {
    "name": "ipython",
    "version": 3
   },
   "file_extension": ".py",
   "mimetype": "text/x-python",
   "name": "python",
   "nbconvert_exporter": "python",
   "pygments_lexer": "ipython3",
   "version": "3.12.4"
  }
 },
 "nbformat": 4,
 "nbformat_minor": 5
}
